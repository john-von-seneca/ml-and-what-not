{
 "cells": [
  {
   "cell_type": "markdown",
   "metadata": {},
   "source": [
    "[Introduction](introduction/index.ipynb)\n",
    "\n",
    "1. [Example: Polynomial Curve Fitting](introduction/1-example-polynomial-curve-fitting.ipynb)\n",
    "1. [Probability Theory](introduction/2-probability-theory.ipynb)\n",
    "1. [Model Selection](introduction/3-model-selection.ipynb)\n",
    "1. [Curse of Dimensionality](introduction/4-curse-of-dimensionality.ipynb)\n",
    "1. [Decision Theory](introduction/5-decision-theory.ipynb)\n",
    "1. [Information Theory](introduction/6-information-theory.ipynb)\n",
    "\n"
   ]
  },
  {
   "cell_type": "markdown",
   "metadata": {},
   "source": [
    "Probability Distributions\n",
    "1. [Binary Variables]()\n",
    "1. [Multinomial Variables]()\n",
    "1. [Gaussian Distribution](probability-distributions/3-gaussian.ipynb)\n",
    "1. [The exponential family](probability-distributions/4-exponential-family.ipynb)\n",
    "1. [Nonparametric methods](probability-distributions/5-nonparametric-methods.ipynb)\n"
   ]
  },
  {
   "cell_type": "markdown",
   "metadata": {},
   "source": [
    "Linear Models for Regression\n",
    "\n",
    "1. [Linear Basis function models](linear-models-for-regression/linear-basis-function-models.ipynb)\n",
    "1. [](linear-models-regression/)\n",
    "1. [](linear-models-regression/)\n",
    "1. [](linear-models-regression/)\n",
    "1. [](linear-models-regression/)\n",
    "1. [](linear-models-regression/)\n",
    "1. [](linear-models-regression/)\n",
    "1. [](linear-models-regression/)\n",
    "1. [](linear-models-regression/)\n"
   ]
  },
  {
   "cell_type": "markdown",
   "metadata": {},
   "source": [
    "[Sampling Methods](sampling-methods/index.ipynb)"
   ]
  },
  {
   "cell_type": "markdown",
   "metadata": {},
   "source": [
    "[Continuous Latent Variables](continuous-latent-variables/index.ipynb)"
   ]
  },
  {
   "cell_type": "markdown",
   "metadata": {},
   "source": [
    "[Sequential Data](sequential-data/index.ipynb)"
   ]
  }
 ],
 "metadata": {
  "hide_input": false,
  "kernelspec": {
   "display_name": "Python 3",
   "language": "python3",
   "name": "python3"
  },
  "language_info": {
   "codemirror_mode": {
    "name": "ipython",
    "version": 3
   },
   "file_extension": ".py",
   "mimetype": "text/x-python",
   "name": "python",
   "nbconvert_exporter": "python",
   "pygments_lexer": "ipython3",
   "version": "3.5.1"
  },
  "latex_envs": {
   "bibliofile": "biblio.bib",
   "cite_by": "apalike",
   "current_citInitial": 1,
   "eqLabelWithNumbers": true,
   "eqNumInitial": 0
  }
 },
 "nbformat": 4,
 "nbformat_minor": 0
}
