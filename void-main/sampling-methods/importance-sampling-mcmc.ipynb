{
 "cells": [
  {
   "cell_type": "code",
   "execution_count": 2,
   "metadata": {
    "collapsed": true
   },
   "outputs": [],
   "source": [
    "import numpy as np\n",
    "from matplotlib import pyplot as plt\n",
    "%matplotlib inline\n",
    "\n",
    "import random as rnd\n",
    "import os\n",
    "import math\n",
    "\n",
    "# required for interactive plotting\n",
    "from __future__ import print_function\n",
    "from ipywidgets import interact, interactive, fixed\n",
    "import ipywidgets as widgets\n",
    "import numpy.polynomial as np_poly\n",
    "\n",
    "from IPython.display import Math\n",
    "from IPython.display import Latex\n",
    "from IPython.display import HTML"
   ]
  },
  {
   "cell_type": "markdown",
   "metadata": {},
   "source": [
    "Bayesian Logistic regression\n",
    "-----------------------------\n",
    "\n",
    "\\begin{array}{rlr}\n",
    "p(\\y \\mid X, \\theta)\n",
    "&=\n",
    "\\prod\n",
    "\\end{array}"
   ]
  },
  {
   "cell_type": "markdown",
   "metadata": {},
   "source": [
    "\\begin{array}{rlr}\n",
    "Z &= \\int p(y \\mid \\theta) p(\\theta) ~d\\theta\n",
    "\\\\\n",
    "&=\\int \\frac{p(y \\mid \\theta) p(\\theta)}{q(\\theta)} q(\\theta) ~d\\theta\n",
    "\\end{array}\n",
    "\n",
    "Typically you want a q with heavy tails\n",
    "\n",
    "$q(\\theta) = \\mathcal{N}(0, 1000)$\n",
    "with large variance\n",
    "\n",
    "User has to be decide $q(\\theta)$\n",
    "\n",
    "\\begin{array}{rlr}\n",
    "Z &= \\int \\frac{p(y \\mid \\theta) p(\\theta)}{q(\\theta)} q(\\theta) ~d\\theta\n",
    "\\\\\n",
    "&= \\int w(\\theta) ~d\\theta\n",
    "\\end{array}"
   ]
  }
 ],
 "metadata": {
  "hide_input": false,
  "kernelspec": {
   "display_name": "Python 3",
   "language": "python",
   "name": "python3"
  },
  "language_info": {
   "codemirror_mode": {
    "name": "ipython",
    "version": 3
   },
   "file_extension": ".py",
   "mimetype": "text/x-python",
   "name": "python",
   "nbconvert_exporter": "python",
   "pygments_lexer": "ipython3",
   "version": "3.4.3"
  },
  "latex_envs": {
   "bibliofile": "biblio.bib",
   "cite_by": "apalike",
   "current_citInitial": 1,
   "eqLabelWithNumbers": true,
   "eqNumInitial": 0
  }
 },
 "nbformat": 4,
 "nbformat_minor": 0
}
