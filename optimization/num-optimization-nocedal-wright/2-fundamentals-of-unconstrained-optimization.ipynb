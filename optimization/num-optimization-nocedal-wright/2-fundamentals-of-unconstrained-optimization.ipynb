{
 "cells": [
  {
   "cell_type": "code",
   "execution_count": 3,
   "metadata": {
    "collapsed": true
   },
   "outputs": [],
   "source": [
    "import math\n",
    "import scipy as sp\n",
    "import numpy as np\n",
    "import matplotlib.pyplot as plt\n",
    "%matplotlib inline\n",
    "\n",
    "# required for interactive plotting\n",
    "from __future__ import print_function\n",
    "from ipywidgets import interact, interactive, fixed\n",
    "import ipywidgets as widgets\n",
    "import numpy.polynomial as np_poly\n",
    "\n",
    "from IPython.display import Math\n",
    "from IPython.display import Latex\n",
    "from IPython.display import HTML"
   ]
  },
  {
   "cell_type": "markdown",
   "metadata": {},
   "source": [
    "What is a solution?\n",
    "====================\n"
   ]
  },
  {
   "cell_type": "markdown",
   "metadata": {},
   "source": [
    "Types of minimizers\n",
    "--------------------\n",
    "\n",
    "* Global minimizer\n",
    "* Local minimizer\n",
    "* Weak local minimizer\n",
    "* Strong local minimizer\n",
    "* Isolated local minimizer\n",
    "\n",
    "$f(x) = x^4 \\cos(1/x) + 2x^4 ~~,~~ f(0)=0$\n",
    "\n"
   ]
  },
  {
   "cell_type": "code",
   "execution_count": 23,
   "metadata": {
    "collapsed": false
   },
   "outputs": [
    {
     "data": {
      "image/png": "[encoded data removed]",
      "text/plain": [
       "<matplotlib.figure.Figure at 0x7ff8478e96a0>"
      ]
     },
     "metadata": {},
     "output_type": "display_data"
    }
   ],
   "source": [
    "def isolated_local_minimzer(x):\n",
    "    return x**4 * math.cos(1/x) + 2*x**4\n",
    "\n",
    "def plot_isolated_local_minimizer(x_end=0.1):\n",
    "    x = np.linspace(0,x_end,50)\n",
    "    x = x[1:]\n",
    "    y = [isolated_local_minimzer(xx) for xx in x]\n",
    "    plt.rc('text', usetex=True)\n",
    "    plt.plot(x,y)\n",
    "    plt.title(r\"$\\displaystyle x^4 \\cos(1/x) + 2x^4 ~~,~~ f(0)=0$\",fontsize=20)\n",
    "    plt.show()\n",
    "    \n",
    "interact(plot_isolated_local_minimizer,x_end=(0,1,0.05))"
   ]
  }
 ],
 "metadata": {
  "hide_input": true,
  "kernelspec": {
   "display_name": "Python 3",
   "language": "python",
   "name": "python3"
  },
  "language_info": {
   "codemirror_mode": {
    "name": "ipython",
    "version": 3
   },
   "file_extension": ".py",
   "mimetype": "text/x-python",
   "name": "python",
   "nbconvert_exporter": "python",
   "pygments_lexer": "ipython3",
   "version": "3.4.3"
  },
  "latex_envs": {
   "bibliofile": "biblio.bib",
   "cite_by": "apalike",
   "current_citInitial": 1,
   "eqLabelWithNumbers": true,
   "eqNumInitial": 0
  }
 },
 "nbformat": 4,
 "nbformat_minor": 0
}
