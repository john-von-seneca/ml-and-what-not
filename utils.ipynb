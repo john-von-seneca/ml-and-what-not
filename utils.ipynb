{
 "cells": [
  {
   "cell_type": "code",
   "execution_count": 1,
   "metadata": {
    "collapsed": false
   },
   "outputs": [
    {
     "name": "stderr",
     "output_type": "stream",
     "text": [
      "/home/dragon/.local/lib/python3.4/site-packages/IPython/html.py:14: ShimWarning: The `IPython.html` package has been deprecated. You should import from `notebook` instead. `IPython.html.widgets` has moved to `ipywidgets`.\n",
      "  \"`IPython.html.widgets` has moved to `ipywidgets`.\", ShimWarning)\n"
     ]
    },
    {
     "data": {
      "text/html": [
       "\n",
       "<table border=\"1\">\n",
       "  <tr>\n",
       "    <th>Extension name</th>\n",
       "  </tr>\n",
       "<tr><td>usability/toc/main</td>\n",
       "<tr><td>publishing/printview/main</td>\n",
       "<tr><td>usability/search-replace/main</td>\n",
       "<tr><td>usability/hide_input_all/main</td>\n",
       "<tr><td>usability/comment-uncomment/main</td>\n",
       "<tr><td>usability/chrome-clipboard/main</td>\n",
       "<tr><td>usability/move_selected_cells/main</td>\n",
       "<tr><td>usability/latex_envs/latex_envs</td>\n",
       "<tr><td>codemirrormode/skill/skill</td>\n",
       "<tr><td>usability/limit_output/main</td>\n",
       "<tr><td>usability/autoscroll/main</td>\n",
       "<tr><td>usability/datestamper/main</td>\n",
       "<tr><td>usability/rubberband/main</td>\n",
       "<tr><td>usability/skip-traceback/main</td>\n",
       "<tr><td>usability/runtools/main</td>\n",
       "<tr><td>config/config_menu/main</td>\n",
       "<tr><td>usability/highlighter/highlighter</td>\n",
       "<tr><td>usability/code_font_size/code_font_size</td>\n",
       "<tr><td>usability/navigation-hotkeys/main</td>\n",
       "<tr><td>calico-document-tools</td>\n",
       "<tr><td>usability/dragdrop/main</td>\n",
       "<tr><td>usability/help_panel/help_panel</td>\n",
       "<tr><td>usability/hide_input/main</td>\n",
       "<tr><td>usability/toggle_all_line_numbers/main</td>\n",
       "<tr><td>styling/zenmode/main</td>\n",
       "<tr><td>usability/execute_time/ExecuteTime</td>\n",
       "<tr><td>usability/python-markdown/main</td>\n",
       "<tr><td>usability/codefolding/main</td>\n",
       "<tr><td>usability/exercise/main</td>\n",
       "<tr><td>usability/autosavetime/main</td>\n",
       "<tr><td>usability/equation-numbering/main</td>\n",
       "\n",
       "</table>\n"
      ],
      "text/plain": [
       "<IPython.core.display.HTML object>"
      ]
     },
     "execution_count": 1,
     "metadata": {},
     "output_type": "execute_result"
    }
   ],
   "source": [
    "from IPython.html.services.config import ConfigManager\n",
    "#from ipywidgets.services.config import ConfigManager\n",
    "from IPython.display import HTML\n",
    "ip = get_ipython()\n",
    "cm = ConfigManager(parent=ip, profile_dir=ip.profile_dir.location)\n",
    "extensions =cm.get('notebook')\n",
    "table = \"\"\n",
    "for ext in extensions['load_extensions']:\n",
    "    table += \"<tr><td>%s</td>\\n\" % (ext)\n",
    "\n",
    "top = \"\"\"\n",
    "<table border=\"1\">\n",
    "  <tr>\n",
    "    <th>Extension name</th>\n",
    "  </tr>\n",
    "\"\"\"\n",
    "bottom = \"\"\"\n",
    "</table>\n",
    "\"\"\"\n",
    "HTML(top + table + bottom)"
   ]
  },
  {
   "cell_type": "code",
   "execution_count": null,
   "metadata": {
    "collapsed": true
   },
   "outputs": [],
   "source": []
  }
 ],
 "metadata": {
  "hide_input": false,
  "kernelspec": {
   "display_name": "Python 3",
   "language": "python",
   "name": "python3"
  },
  "language_info": {
   "codemirror_mode": {
    "name": "ipython",
    "version": 3
   },
   "file_extension": ".py",
   "mimetype": "text/x-python",
   "name": "python",
   "nbconvert_exporter": "python",
   "pygments_lexer": "ipython3",
   "version": "3.4.3"
  },
  "latex_envs": {
   "bibliofile": "biblio.bib",
   "cite_by": "apalike",
   "current_citInitial": 1,
   "eqLabelWithNumbers": true,
   "eqNumInitial": 0
  }
 },
 "nbformat": 4,
 "nbformat_minor": 0
}
