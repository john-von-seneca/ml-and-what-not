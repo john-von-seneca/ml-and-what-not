{
 "cells": [
  {
   "cell_type": "markdown",
   "metadata": {},
   "source": [
    "**Align and array**\n",
    "Align is little arbitrary when it comes to alignment. The $3^{rd}$ column alignment is right aligned, for whatever reason.\n",
    "\n",
    "\\begin{align}\n",
    "\\sigma(X, \\mathbb{E}(Y ~|~ X))\n",
    "&= \\mathbb{E}\\bigl[X ~ \\mathbb{E}(Y ~|~ X)\\bigr]\n",
    "& - \\mathbb{E}[X] ~ \\mathbb{E}\\bigl[\\mathbb{E}(Y ~|~ X))\\bigr] \\hspace{1pt}\n",
    "&  \\text{ deftn. of covariance} \\\\\n",
    "&= \\mathbb{E}[XY]\n",
    "& - \\mathbb{E}[X] ~ \\mathbb{E}\\bigl[\\mathbb{E}(Y ~|~ X))\\bigr] \\hspace{1pt}\n",
    "&\\text{ (fundamental property)}\\\\\n",
    "&= \\mathbb{E}[XY]\n",
    "& - \\mathbb{E}[X] ~ \\mathbb{E}[Y]\n",
    "&\\text{ (Equal means property)} \\\\\n",
    "&= \\sigma(X, Y) & & \n",
    "\\end{align}\n",
    "\n",
    "Instead, use the array environment which is super cool and you can specify the alignment\n",
    "\\begin{array}{lll|r}\n",
    "\\sigma(X, \\mathbb{E}(Y ~|~ X))\n",
    "&= \\mathbb{E}\\bigl[X ~ \\mathbb{E}(Y ~|~ X)\\bigr]\n",
    "& - \\mathbb{E}[X] ~ \\mathbb{E}\\bigl[\\mathbb{E}(Y ~|~ X))\\bigr] \\hspace{1pt}\n",
    "&  \\text{ deftn. of covariance} \\\\\n",
    "&= \\mathbb{E}[XY]\n",
    "& - \\mathbb{E}[X] ~ \\mathbb{E}\\bigl[\\mathbb{E}(Y ~|~ X))\\bigr] \\hspace{1pt}\n",
    "&\\text{ (fundamental property)}\\\\\n",
    "&= \\mathbb{E}[XY]\n",
    "& - \\mathbb{E}[X] ~ \\mathbb{E}[Y]\n",
    "&\\text{ (Equal means property)} \\\\\n",
    "&= \\sigma(X, Y) & & \n",
    "\\end{array}"
   ]
  },
  {
   "cell_type": "markdown",
   "metadata": {},
   "source": [
    "The | symbol has the wrong spacing when it is used as a divider, for example in set comprehensions. Use \\mid instead:\n",
    "\n",
    "$$\n",
    "\\begin{array}{cc}\n",
    "\\mathrm{Bad} & \\mathrm{Better} \\\\\n",
    "\\hline \\\\\n",
    "\\{x|x^2\\in\\Bbb Z\\} & \\{x\\mid x^2\\in\\Bbb Z\\} \\\\\n",
    "\\end{array}\n",
    "$$\n",
    "\n",
    "Better yet, use \\middle, which adjusts its height\n",
    "\n",
    "$\\left\\{x \\mid | \\frac{x^2}{2} \\in \\mathbb{Z}\\right\\}$  \n",
    "vs.  \n",
    "$\\left\\{x \\middle | \\frac{x^2}{2} \\in \\mathbb{Z}\\right\\}$"
   ]
  },
  {
   "cell_type": "markdown",
   "metadata": {},
   "source": [
    "use \\bigl[ and \\bigr] if you want the brackets to be big, no matter what\n",
    "\n",
    "$$\n",
    "\\begin{array}{lr}\n",
    "\\mathbb{E} [ \\mathbb{E}(Y \\mid X) ] & \\text{normal brackets}\\\\\n",
    "\\mathbb{E} \\bigl[ \\mathbb{E}(Y \\mid X) \\bigr] &\\text{using big\\{lr\\}}\n",
    "\\end{array}\n",
    "$$"
   ]
  },
  {
   "cell_type": "markdown",
   "metadata": {},
   "source": [
    "For double and triple integrals, don't use \\int\\int or \\int\\int\\int. Instead use the special forms \\iint and \\iiint:\n",
    "\n",
    "\\begin{array}{cc}\n",
    "\\mathrm{Bad} & \\mathrm{Better} \\\\\n",
    "\\hline \\\\\n",
    "\\int\\int_S f(x)\\,dy\\,dx & \\iint_S f(x)\\,dy\\,dx \\\\\n",
    "\\int\\int\\int_V f(x)\\,dz\\,dy\\,dx & \\iiint_V f(x)\\,dz\\,dy\\,dx\n",
    "\\end{array}"
   ]
  },
  {
   "cell_type": "markdown",
   "metadata": {},
   "source": [
    "Use \\, to insert a thin space before differentials; without this $\\TeX$ will mash them together:\n",
    "\n",
    "\\begin{array}{cc}\n",
    "\\mathrm{Bad} & \\mathrm{Better} \\\\\n",
    "\\hline \\\\\n",
    "\\iiint_V f(x)dz dy dx & \\iiint_V f(x)\\,dz\\,dy\\,dx\n",
    "\\end{array}"
   ]
  },
  {
   "cell_type": "markdown",
   "metadata": {},
   "source": [
    "Using colors  \n",
    "\n",
    "\\begin{array}{|rc|}\n",
    "\\hline\n",
    "\\verb+\\color{black}{text}+ & \\color{black}{text} \\\\\n",
    "\\verb+\\color{gray}{text}+ & \\color{gray}{text} \\\\\n",
    "\\verb+\\color{silver}{text}+ & \\color{silver}{text} \\\\\n",
    "\\verb+\\color{white}{text}+ & \\color{white}{text} \\\\\n",
    "\\hline\n",
    "\\verb+\\color{maroon}{text}+ & \\color{maroon}{text} \\\\\n",
    "\\verb+\\color{red}{text}+ & \\color{red}{text} \\\\\n",
    "\\verb+\\color{yellow}{text}+ & \\color{yellow}{text} \\\\\n",
    "\\verb+\\color{lime}{text}+ & \\color{lime}{text} \\\\\n",
    "\\verb+\\color{olive}{text}+ & \\color{olive}{text} \\\\\n",
    "\\verb+\\color{green}{text}+ & \\color{green}{text} \\\\\n",
    "\\verb+\\color{teal}{text}+ & \\color{teal}{text} \\\\\n",
    "\\verb+\\color{aqua}{text}+ & \\color{aqua}{text} \\\\\n",
    "\\verb+\\color{blue}{text}+ & \\color{blue}{text} \\\\\n",
    "\\verb+\\color{navy}{text}+ & \\color{navy}{text} \\\\\n",
    "\\verb+\\color{purple}{text}+ & \\color{purple}{text} \\\\ \n",
    "\\verb+\\color{fuchsia}{text}+ & \\color{magenta}{text} \\\\\n",
    "\\hline\n",
    "\\end{array}\n",
    "\n",
    "can be used in comments for derivations in  proofs  \n",
    "\\begin{array}{lllr}\n",
    "\\sigma(X, \\mathbb{E}(Y ~|~ X))\n",
    "&= \\mathbb{E}\\bigl[X ~ \\mathbb{E}(Y ~|~ X)\\bigr]\n",
    "& - \\mathbb{E}[X] ~ \\mathbb{E}\\bigl[\\mathbb{E}(Y ~|~ X))\\bigr] \\hspace{1pt}\n",
    "&  \\color{gray}{\\text{ deftn. of covariance}} \\\\\n",
    "&= \\mathbb{E}[XY]\n",
    "& - \\mathbb{E}[X] ~ \\mathbb{E}\\bigl[\\mathbb{E}(Y ~|~ X))\\bigr] \\hspace{1pt}\n",
    "&  \\color{gray}{\\text{ (fundamental property)}}\\\\\n",
    "&= \\mathbb{E}[XY]\n",
    "& - \\mathbb{E}[X] ~ \\mathbb{E}[Y]\n",
    "&  \\color{gray}{\\text{ (Equal means property)}} \\\\\n",
    "&= \\sigma(X, Y) & & \n",
    "\\end{array}"
   ]
  }
 ],
 "metadata": {
  "hide_input": false,
  "kernelspec": {
   "display_name": "Python 3",
   "language": "python",
   "name": "python3"
  },
  "language_info": {
   "codemirror_mode": {
    "name": "ipython",
    "version": 3
   },
   "file_extension": ".py",
   "mimetype": "text/x-python",
   "name": "python",
   "nbconvert_exporter": "python",
   "pygments_lexer": "ipython3",
   "version": "3.4.3"
  },
  "latex_envs": {
   "bibliofile": "biblio.bib",
   "cite_by": "apalike",
   "current_citInitial": 1,
   "eqLabelWithNumbers": true,
   "eqNumInitial": 0
  }
 },
 "nbformat": 4,
 "nbformat_minor": 0
}
