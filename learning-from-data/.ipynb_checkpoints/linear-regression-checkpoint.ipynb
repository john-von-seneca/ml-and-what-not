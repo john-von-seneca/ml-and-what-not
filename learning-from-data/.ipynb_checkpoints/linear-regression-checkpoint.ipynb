{
 "cells": [
  {
   "cell_type": "code",
   "execution_count": 15,
   "metadata": {
    "collapsed": false
   },
   "outputs": [],
   "source": [
    "from __future__ import print_function\n",
    "from ipywidgets import interact, interactive, fixed\n",
    "import ipywidgets as widgets\n",
    "import numpy as np\n",
    "%matplotlib inline\n",
    "import matplotlib.pyplot as plt\n",
    "import math\n",
    "import sympy as sp"
   ]
  },
  {
   "cell_type": "code",
   "execution_count": 2,
   "metadata": {
    "collapsed": false
   },
   "outputs": [],
   "source": [
    "def f(w, x):\n",
    "    xx, val = 1, 0\n",
    "    for ww in w:\n",
    "        val += ww*xx\n",
    "        xx *= x\n",
    "    return val"
   ]
  },
  {
   "cell_type": "code",
   "execution_count": 23,
   "metadata": {
    "collapsed": false
   },
   "outputs": [],
   "source": [
    "def g(x_val,x0,x1,x2,x3):\n",
    "    x = sp.symbols('x')\n",
    "    expression = (x - x0)*(x-x1)*(x-x2)*(x-x3)\n",
    "    return expression.subs(x, x_val)"
   ]
  },
  {
   "cell_type": "code",
   "execution_count": 28,
   "metadata": {
    "collapsed": true
   },
   "outputs": [],
   "source": [
    "def g2(roots, x):\n",
    "    val = 1\n",
    "    for root in roots:\n",
    "        val *= (x-root)\n",
    "    return val\n"
   ]
  },
  {
   "cell_type": "code",
   "execution_count": 32,
   "metadata": {
    "collapsed": false
   },
   "outputs": [],
   "source": [
    "def compute2(x0, x1, x2, x3,x4):\n",
    "    x = np.linspace(0,5,100)\n",
    "    roots = (x0,x1,x2,x3,x4)\n",
    "    plt.plot(x, [g2(roots,xx) for xx in x])\n",
    "    \n",
    "    \n",
    "    plt.show()"
   ]
  },
  {
   "cell_type": "code",
   "execution_count": 33,
   "metadata": {
    "collapsed": false
   },
   "outputs": [
    {
     "data": {
      "image/png": "[encoded data removed]",
      "text/plain": [
       "<matplotlib.figure.Figure at 0x7f4a9a2874a8>"
      ]
     },
     "metadata": {},
     "output_type": "display_data"
    }
   ],
   "source": [
    "interact(compute2, x0=(-10,10),x1=(-10,10),x2=(-10,10),x3=(-10,10),x4=(-10,10))"
   ]
  },
  {
   "cell_type": "code",
   "execution_count": 99,
   "metadata": {
    "collapsed": false
   },
   "outputs": [
    {
     "data": {
      "image/png": "[encoded data removed]",
      "text/plain": [
       "<matplotlib.figure.Figure at 0x7f4a99012e80>"
      ]
     },
     "metadata": {},
     "output_type": "display_data"
    }
   ],
   "source": [
    "roots = (-2,1,-1,5,2)\n",
    "N, x_max = 10, 5\n",
    "x = np.random.rand(N)*x_max\n",
    "noise_sigma = 50\n",
    "noise =np.random.normal(0, noise_sigma, N)\n",
    "y = [g2(roots,xx) for xx in x] + noise\n",
    "plt.plot(x,y,'o')\n",
    "plt.show()\n",
    "x_original = x"
   ]
  },
  {
   "cell_type": "code",
   "execution_count": 100,
   "metadata": {
    "collapsed": false
   },
   "outputs": [
    {
     "data": {
      "image/png": "[encoded data removed]",
      "text/plain": [
       "<matplotlib.figure.Figure at 0x7f4a98f69ef0>"
      ]
     },
     "metadata": {},
     "output_type": "display_data"
    }
   ],
   "source": [
    "x = np.linspace(0,x_max,100)\n",
    "deg_max = 7\n",
    "fig, ax = plt.subplots()\n",
    "ax.plot(x_original,y,'o')\n",
    "for deg in range(1,deg_max+1):\n",
    "  w = np.polyfit(x_original, y, deg)\n",
    "  ax.plot(x, [f(w[::-1],xx) for xx in x], label='degree '+str(deg))\n",
    "\n",
    "legend = ax.legend(loc='lower left', shadow=True)\n",
    "plt.show()\n",
    "\n",
    "def show_poly(deg):\n",
    "    w = np.polyfit(x_original, y, deg)\n",
    "    plt.plot(x_original, y, 'o')\n",
    "    plt.plot(x, [f(w[::-1],xx) for xx in x], label='degree '+str(deg))\n",
    "    plt.show()\n",
    "\n",
    "interactive(show_poly, deg=(1,9))\n"
   ]
  },
  {
   "cell_type": "code",
   "execution_count": 56,
   "metadata": {
    "collapsed": false
   },
   "outputs": [
    {
     "data": {
      "text/plain": [
       "array([ 73.89928711, -49.075419  ])"
      ]
     },
     "execution_count": 56,
     "metadata": {},
     "output_type": "execute_result"
    }
   ],
   "source": [
    "w[::-1]"
   ]
  },
  {
   "cell_type": "code",
   "execution_count": null,
   "metadata": {
    "collapsed": true
   },
   "outputs": [],
   "source": []
  },
  {
   "cell_type": "code",
   "execution_count": null,
   "metadata": {
    "collapsed": true
   },
   "outputs": [],
   "source": []
  },
  {
   "cell_type": "code",
   "execution_count": null,
   "metadata": {
    "collapsed": true
   },
   "outputs": [],
   "source": []
  },
  {
   "cell_type": "code",
   "execution_count": null,
   "metadata": {
    "collapsed": true
   },
   "outputs": [],
   "source": []
  },
  {
   "cell_type": "code",
   "execution_count": null,
   "metadata": {
    "collapsed": true
   },
   "outputs": [],
   "source": []
  },
  {
   "cell_type": "code",
   "execution_count": null,
   "metadata": {
    "collapsed": true
   },
   "outputs": [],
   "source": []
  },
  {
   "cell_type": "code",
   "execution_count": null,
   "metadata": {
    "collapsed": true
   },
   "outputs": [],
   "source": []
  },
  {
   "cell_type": "code",
   "execution_count": null,
   "metadata": {
    "collapsed": true
   },
   "outputs": [],
   "source": []
  },
  {
   "cell_type": "code",
   "execution_count": null,
   "metadata": {
    "collapsed": true
   },
   "outputs": [],
   "source": []
  },
  {
   "cell_type": "code",
   "execution_count": 12,
   "metadata": {
    "collapsed": false
   },
   "outputs": [],
   "source": [
    "def compute(w0, w1, w2, w3, w4):\n",
    "    x = np.linspace(0,5,100)\n",
    "    w = (w0, w1, w2, w3, w4)\n",
    "    plt.plot(x, [f(w,xx) for xx in x])\n",
    "    plt.show()"
   ]
  },
  {
   "cell_type": "code",
   "execution_count": 13,
   "metadata": {
    "collapsed": false
   },
   "outputs": [
    {
     "data": {
      "image/png": "[encoded data removed]",
      "text/plain": [
       "<matplotlib.figure.Figure at 0x7f4a9a058be0>"
      ]
     },
     "metadata": {},
     "output_type": "display_data"
    }
   ],
   "source": [
    "interact(compute, w0=(-5,5),w1=(-5,5),w2=(-5,5),w3=(-5,5), w4=(-5,5))"
   ]
  }
 ],
 "metadata": {
  "kernelspec": {
   "display_name": "Python 3",
   "language": "python",
   "name": "python3"
  },
  "language_info": {
   "codemirror_mode": {
    "name": "ipython",
    "version": 3
   },
   "file_extension": ".py",
   "mimetype": "text/x-python",
   "name": "python",
   "nbconvert_exporter": "python",
   "pygments_lexer": "ipython3",
   "version": "3.4.3"
  }
 },
 "nbformat": 4,
 "nbformat_minor": 0
}
